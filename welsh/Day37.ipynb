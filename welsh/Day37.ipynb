{
 "cells": [
  {
   "cell_type": "markdown",
   "id": "e4d35061",
   "metadata": {},
   "source": [
    "## Day 37: 2-D Lists (cont'd)\n"
   ]
  },
  {
   "cell_type": "markdown",
   "id": "a39a6b6c",
   "metadata": {},
   "source": [
    "## Practice from last time\n",
    "\n",
    "In the cell below, fill in the code for the 3 functions listed:\n",
    "* `sum_all` – returns the sum of all elements in the 2-D list\n",
    "* `sum_columns` – prints out the sums of each column\n",
    "* `max_row` – compute the sum of each row and return the index and sum of the maximum row\n",
    "* `add_diagonal` - that takes in a 2-D list and returns the total of the values on the upper-left to lower-right diagonal.\n",
    "\n",
    "The main function is already written for you."
   ]
  },
  {
   "cell_type": "code",
   "execution_count": null,
   "id": "8a181599",
   "metadata": {},
   "outputs": [],
   "source": [
    "#This function computes the sum of all elements in a 2-d list\n",
    "#parameters - table, a 2-d list\n",
    "#returns - total, the sum of all elements in table\n",
    "def sum_all(table):\n",
    "    total = 0\n",
    "    for r in range(0, len(table)):\n",
    "        for c in range(0, len(table[r])):\n",
    "            total += table[r][c]\n",
    "    return total\n",
    "\n",
    "#This is an alternate way to solve sum_all\n",
    "\n",
    "def sum_all_2(table):\n",
    "    total = 0\n",
    "    for r in range(0, len(table)):\n",
    "        total += sum(table[r])\n",
    "    return total\n",
    "\n",
    "#This function computes the sum of the individual columns in a 2-d list\n",
    "#and it prints out the values\n",
    "#parameters - table, a 2-d list\n",
    "#returns - None\n",
    "def sum_columns(table):\n",
    "    for c in range(0, len(table[0])):\n",
    "        total = 0\n",
    "        for r in range(0, len(table)):\n",
    "            total += table[r][c]\n",
    "        print(total)\n",
    "        \n",
    "\n",
    "#This function computes the max sum of an individual row in a 2-d list\n",
    "#and returns both the maximum sum and the index of the row\n",
    "#parameters - table, a 2-d list\n",
    "#returns - maxInd, the index of the max sum row, maxTotal, the max sum \n",
    "def max_row(table):\n",
    "    maxTotal = 0\n",
    "    maxInd = -1\n",
    "  \n",
    "    for r in range(0, len(table)):\n",
    "        total_row = sum(table[r])\n",
    "        if total_row > maxTotal:\n",
    "            maxTotal = total_row\n",
    "            maxInd = r\n",
    "\n",
    "    return maxInd, maxTotal\n",
    "\n",
    "#Longer way to solve max_row\n",
    "def max_row_long(table):\n",
    "    maxTotal = 0\n",
    "    maxInd = -1\n",
    "  \n",
    "    for r in range(0, len(table)):\n",
    "        total_row = 0\n",
    "        for c in range(0, len(table[r])):\n",
    "            total_row += table[r][c]\n",
    "        if total_row > maxTotal:\n",
    "            maxTotal = total_row\n",
    "            maxInd = r\n",
    "\n",
    "    return maxInd, maxTotal\n",
    "  \n",
    "#This function that takes in a 2-D list and returns the total of the values on the upper-left to lower-right diagonal. \n",
    "#parameters - table, a 2-d list\n",
    "#returns - the sum of the values in the upper-left to lower-right diagonal\n",
    "#Example: table = [[1, 3, 5], [2, 4, 6], [3, 6, 9]] returns 14 (since 1 + 4 + 9 = 14)\n",
    "def add_diagonal(table):\n",
    "    total = 0\n",
    "    for r in range(0, len(table)):\n",
    "        total += table[r][r]\n",
    "        \n",
    "    return total\n",
    "\n",
    "def add_diagonal_long(table):\n",
    "    total = 0\n",
    "    for r in range(0, len(table)):\n",
    "        for c in range(0, len(table[r])):\n",
    "            if r == c:\n",
    "                total += table[r][c]\n",
    "                \n",
    "    return total\n",
    "\n",
    "\n",
    "def main():\n",
    "    matrix = [[67, 89, 46, 43], [7, 58, 72, 100], [38, 39, 73, 75], [32, 7, 99, 6]]\n",
    "    sumElements = sum_all(matrix)\n",
    "    print(\"Sum of all elements: \", sumElements)\n",
    "    sumElements2 = sum_all_2(matrix)\n",
    "    print(\"Sum of all elements: \", sumElements)\n",
    "    sum_columns(matrix)\n",
    "    maxIndex, maxSum = max_row(matrix)\n",
    "    print(\"MaxSum:\", maxSum, \"Occurred in row:\", maxIndex)\n",
    "\n",
    "    diagonal = add_diagonal(matrix)\n",
    "    print(\"The sum of the values on the diagonal is: \", diagonal)\n",
    "    \n",
    "main()"
   ]
  },
  {
   "cell_type": "markdown",
   "id": "6855c22f",
   "metadata": {},
   "source": [
    "Please do the following:\n",
    "1. Lab 9 - due by 11:59pm today\n",
    "2. Quiz 10 - due by 11:59pm on Tuesday, November 22rd\n",
    "3. Keep working on Project 8 - due by 11:59pm on Tuesday, December 6th"
   ]
  },
  {
   "cell_type": "code",
   "execution_count": null,
   "id": "ac3f63d7",
   "metadata": {},
   "outputs": [],
   "source": []
  }
 ],
 "metadata": {
  "kernelspec": {
   "display_name": "Python 3 (ipykernel)",
   "language": "python",
   "name": "python3"
  },
  "language_info": {
   "codemirror_mode": {
    "name": "ipython",
    "version": 3
   },
   "file_extension": ".py",
   "mimetype": "text/x-python",
   "name": "python",
   "nbconvert_exporter": "python",
   "pygments_lexer": "ipython3",
   "version": "3.10.5"
  },
  "varInspector": {
   "cols": {
    "lenName": 16,
    "lenType": 16,
    "lenVar": 40
   },
   "kernels_config": {
    "python": {
     "delete_cmd_postfix": "",
     "delete_cmd_prefix": "del ",
     "library": "var_list.py",
     "varRefreshCmd": "print(var_dic_list())"
    },
    "r": {
     "delete_cmd_postfix": ") ",
     "delete_cmd_prefix": "rm(",
     "library": "var_list.r",
     "varRefreshCmd": "cat(var_dic_list()) "
    }
   },
   "types_to_exclude": [
    "module",
    "function",
    "builtin_function_or_method",
    "instance",
    "_Feature"
   ],
   "window_display": false
  }
 },
 "nbformat": 4,
 "nbformat_minor": 5
}
