{
 "cells": [
  {
   "cell_type": "markdown",
   "metadata": {},
   "source": [
    "# Day 41: Binary Numbers"
   ]
  },
  {
   "cell_type": "markdown",
   "metadata": {},
   "source": [
    "### Solutions to Lab 11 "
   ]
  },
  {
   "cell_type": "code",
   "execution_count": null,
   "metadata": {},
   "outputs": [],
   "source": [
    "from string import punctuation\n",
    "\n",
    "#This function removes punctuation and changes s to it's lowercase version\n",
    "#Parameters: s, a string\n",
    "#Returns: a cleaned up version of s\n",
    "def clean_string(s):\n",
    "    s = s.lower()\n",
    "    s = s.translate(str.maketrans('', '', punctuation))\n",
    "    return s\n",
    "\n",
    "def word_count(filename):\n",
    "    word_counts = {}\n",
    "    file = open(filename, 'r')\n",
    "    for line in file:\n",
    "        line = line.rstrip()\n",
    "        #Need to call the clean_string function to clean up any punctuation in the string.\n",
    "        line = clean_string(line)\n",
    "        words = line.split()\n",
    "        for i in range(len(words)):\n",
    "            word = words[i]\n",
    "            if word in word_counts:\n",
    "                word_counts[word] += 1\n",
    "            else:\n",
    "                word_counts[word] = 1\n",
    "    file.close()\n",
    "    return word_counts\n",
    "\n",
    "grimm_counts = word_count('data/pg-grimm.txt')\n",
    "print(grimm_counts['princess']) # prints 101\n",
    "print(grimm_counts['prince']) # prints 63\n",
    "\n",
    "holmes_counts = word_count('data/pg-sherlock_holmes.txt')\n",
    "print(holmes_counts['sherlock']) # prints 102\n",
    "print(holmes_counts['holmes']) # prints 463"
   ]
  },
  {
   "cell_type": "code",
   "execution_count": null,
   "metadata": {},
   "outputs": [],
   "source": [
    "def decode(cipher, n):\n",
    "    cipher = cipher.lower()\n",
    "    alphabet = 'abcdefghijklmnopqrstuvwxyz'\n",
    "  \n",
    "    text = ''\n",
    "    for i in range(0, len(cipher)):\n",
    "        ch = cipher[i]\n",
    "        if ch in alphabet:\n",
    "            text += alphabet[(alphabet.index(ch) - n) % 26]\n",
    "        else:\n",
    "            text += ch\n",
    "    return text\n",
    "\n",
    "def main():\n",
    "\n",
    "    file = open('data/cipherText.txt', 'r')\n",
    "  \n",
    "    #Need to keep track of the counts of all the letters in the encrypted message\n",
    "    letterCnts = {}\n",
    "    #Need to add together all the lines from the encrypted message, so you can \n",
    "    #pass the entire encrypted string into the decode function.\n",
    "    text = ''\n",
    "  \n",
    "    for line in file:\n",
    "        line = line.rstrip()\n",
    "        text += line\n",
    "        for i in range(len(line)):\n",
    "            ch = line[i]\n",
    "            if ch.isalpha():\n",
    "                if ch in letterCnts:\n",
    "                    letterCnts[ch] += 1\n",
    "                else:\n",
    "                    letterCnts[ch] = 1\n",
    "    file.close()\n",
    "  \n",
    "    #Find the max letter in the letterCnts dictionary\n",
    "    maxLetter = ''\n",
    "    maxLetterCnt = 0\n",
    "    for key in letterCnts:\n",
    "        if letterCnts[key] > maxLetterCnt:\n",
    "            maxLetterCnt = letterCnts[key]\n",
    "            maxLetter = key\n",
    "    print(maxLetter, maxLetterCnt)\n",
    "  \n",
    "    #Need to determine the difference between e and the max letter index\n",
    "    alphabet = 'abcdefghijklmnopqrstuvwxyz'\n",
    "    #Find the index of the max letter in the alphabet\n",
    "    maxLetterInd = alphabet.index(maxLetter)\n",
    "    #Compare the index of the max letter to the index of e to get the shift\n",
    "    shift = maxLetterInd - alphabet.index('e')\n",
    "  \n",
    "    #Call the decode function with the entire encrypted message and the shift that you just found\n",
    "    text = decode(text, shift)\n",
    "    print(text)\n",
    "\n",
    "main()"
   ]
  },
  {
   "cell_type": "code",
   "execution_count": null,
   "metadata": {},
   "outputs": [],
   "source": [
    "# This function takes in two dictionaries d1 and d2 and returns a dictionary of word counts \n",
    "# (key = word, value = count), but only for words in d1 but not in d2.\n",
    "def unique(d1, d2):\n",
    "    counts = {}\n",
    "    for key in d1:\n",
    "        if key not in d2:\n",
    "            counts[key] = d1[key]\n",
    "    return counts\n",
    "\n",
    "unique({'the': 7221, 'project': 88, 'gutenberg': 29, 'ebook': 10, 'of': 1488, 'by': 316, 'this': 375, 'is': 492, 'for': 772,},\n",
    "       {'the': 1009, 'of': 988, 'by': 316, 'this': 375, 'is': 492, 'for': 772, 'at': 635, 'no': 321, 'and': 5546})"
   ]
  },
  {
   "cell_type": "markdown",
   "metadata": {},
   "source": [
    "Please do the following:\n",
    "* Finish Project 8 - due tomorrow by 11:59pm\n",
    "* Start studying for final exam - practice problems and solutions on Canvas (under Course Schedule)"
   ]
  },
  {
   "cell_type": "markdown",
   "metadata": {},
   "source": [
    "## Final Exam Information\n",
    "\n",
    "* Tuesday, December 13th from 8:30-11am in Briggs 019\n",
    "* You may use the String, List and Dictionary Reference Handouts during the exam (will be provided for you).\n",
    "* You may NOT use any string, list, or dictionary methods that are not on the provided reference sheets. Doing so on any question that asks you to write some code will automatically reduce your grade in half on that question.\n"
   ]
  },
  {
   "cell_type": "code",
   "execution_count": null,
   "metadata": {},
   "outputs": [],
   "source": []
  }
 ],
 "metadata": {
  "kernelspec": {
   "display_name": "Python 3 (ipykernel)",
   "language": "python",
   "name": "python3"
  },
  "language_info": {
   "codemirror_mode": {
    "name": "ipython",
    "version": 3
   },
   "file_extension": ".py",
   "mimetype": "text/x-python",
   "name": "python",
   "nbconvert_exporter": "python",
   "pygments_lexer": "ipython3",
   "version": "3.10.5"
  },
  "varInspector": {
   "cols": {
    "lenName": 16,
    "lenType": 16,
    "lenVar": 40
   },
   "kernels_config": {
    "python": {
     "delete_cmd_postfix": "",
     "delete_cmd_prefix": "del ",
     "library": "var_list.py",
     "varRefreshCmd": "print(var_dic_list())"
    },
    "r": {
     "delete_cmd_postfix": ") ",
     "delete_cmd_prefix": "rm(",
     "library": "var_list.r",
     "varRefreshCmd": "cat(var_dic_list()) "
    }
   },
   "types_to_exclude": [
    "module",
    "function",
    "builtin_function_or_method",
    "instance",
    "_Feature"
   ],
   "window_display": false
  }
 },
 "nbformat": 4,
 "nbformat_minor": 2
}
