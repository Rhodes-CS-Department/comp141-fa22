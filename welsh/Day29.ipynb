{
 "cells": [
  {
   "cell_type": "markdown",
   "metadata": {},
   "source": [
    "# Day 29: Strings IV"
   ]
  },
  {
   "cell_type": "markdown",
   "metadata": {},
   "source": [
    "## Practice From Last Time\n",
    "1. Web servers and Web browsers need to know a file's type so they know how to display the file. The file's type is based on the extension of the file's name. For example, we name our Python scripts with the .py extension and our HTML files with the .html extension. Using help(str), look at how to use the rfind method and compare with how the find method is used. Use the `rfind` method to determine a file's type. \n",
    "Example output:\n",
    "```\n",
    "What is the name of your file? index.html\n",
    "That is a html file.\n",
    "What is the name of your file? picture.jpg\n",
    "That is a jpg file.\n",
    "What is the name of your file? 16.functions.pdf\n",
    "That is a pdf file.\n",
    "```\n",
    "2. Write a function called `count_dups` that\tcounts the number of back-to-back duplicated characters\tin a string. Example: `count_dups(\"balloon\")` returns 2\n",
    "\n",
    "3. Write a function called `is_palindrome` that takes in a string as a parameter and returns True if it is a palindrome, and False otherwise. A palindrome is a word or phrase that is the same forwards and backwards.  In your algorithm, remove spaces from the string. You should consider upper and lower case letters as the same, .i.e., \"A man A plan A canal Panama\" is a palindrome. (What string methods can you use to accomplish this before processing?) However, you don't need to consider punctuation as special cases.\n",
    "Some example palindromes: \"kayak\", \"A man A plan A canal Panama\".  Example: `is_palindrome('kayak')` returns True"
   ]
  },
  {
   "cell_type": "code",
   "execution_count": null,
   "metadata": {},
   "outputs": [],
   "source": [
    "def main():\n",
    "    filename = input(\"What is the name of your file? \")\n",
    "    ind = filename.rfind(\".\") #finds the last period in the filename string\n",
    "    \n",
    "    ext = filename[ind+1:]\n",
    "    print(\"That is a\", ext, \"file.\")\n",
    "    \n",
    "main()"
   ]
  },
  {
   "cell_type": "code",
   "execution_count": null,
   "metadata": {},
   "outputs": [],
   "source": [
    "def count_dups(s):\n",
    "    cnt = 0\n",
    "    #Modify the range to start at 1 instead of 0, so i-1 = 0 in the first iteration\n",
    "    for i in range(1, len(s)):\n",
    "        #compare 2 characters that are next to each other in the string using their indices\n",
    "        if s[i-1] == s[i]:\n",
    "            cnt += 1\n",
    "    \n",
    "    return cnt\n",
    "    \n",
    "count_dups(\"balloon\")"
   ]
  },
  {
   "cell_type": "code",
   "execution_count": null,
   "metadata": {},
   "outputs": [],
   "source": [
    "#This function will return a copy of a string without any spaces in it\n",
    "#Parameters: s, a string\n",
    "#Returns: the string s without any spaces in it\n",
    "def remove_spaces(s):\n",
    "    newS = ''\n",
    "    for i in range(len(s)):\n",
    "        ch = s[i]\n",
    "        if not ch.isspace():\n",
    "            newS += ch\n",
    "            \n",
    "    return newS\n",
    "\n",
    "#This function determines if a string is a palindrome or not\n",
    "#Parameters: s, a string\n",
    "#Returns: True if s is a palindrome and False otherwise\n",
    "def is_palindrome(s):\n",
    "    s = remove_spaces(s)\n",
    "    s = s.lower()\n",
    "    \n",
    "    #If at any time the ith character from the front and the ith character from the back\n",
    "    #don't match, then it's not a palindrome\n",
    "    for i in range(0, len(s)):\n",
    "        if s[i] != s[len(s)-1-i]:\n",
    "            return False\n",
    "    #You will only get here if it is a palindrome, so return True    \n",
    "    return True\n",
    "    \n",
    "is_palindrome('kayak')\n",
    "#is_palindrome(\"A man A plan A canal Panama\")\n",
    "#is_palindrome(\"hello\")"
   ]
  },
  {
   "cell_type": "markdown",
   "metadata": {},
   "source": [
    "Please do the following:\n",
    "1. Complete Lab 07 - due by 11:59pm tomorrow\n",
    "2. Keep working on Project 7 - due by 11:59 on Tuesday, November 15"
   ]
  },
  {
   "cell_type": "code",
   "execution_count": null,
   "metadata": {},
   "outputs": [],
   "source": []
  }
 ],
 "metadata": {
  "kernelspec": {
   "display_name": "Python 3 (ipykernel)",
   "language": "python",
   "name": "python3"
  },
  "language_info": {
   "codemirror_mode": {
    "name": "ipython",
    "version": 3
   },
   "file_extension": ".py",
   "mimetype": "text/x-python",
   "name": "python",
   "nbconvert_exporter": "python",
   "pygments_lexer": "ipython3",
   "version": "3.10.5"
  },
  "varInspector": {
   "cols": {
    "lenName": 16,
    "lenType": 16,
    "lenVar": 40
   },
   "kernels_config": {
    "python": {
     "delete_cmd_postfix": "",
     "delete_cmd_prefix": "del ",
     "library": "var_list.py",
     "varRefreshCmd": "print(var_dic_list())"
    },
    "r": {
     "delete_cmd_postfix": ") ",
     "delete_cmd_prefix": "rm(",
     "library": "var_list.r",
     "varRefreshCmd": "cat(var_dic_list()) "
    }
   },
   "types_to_exclude": [
    "module",
    "function",
    "builtin_function_or_method",
    "instance",
    "_Feature"
   ],
   "window_display": false
  }
 },
 "nbformat": 4,
 "nbformat_minor": 2
}
